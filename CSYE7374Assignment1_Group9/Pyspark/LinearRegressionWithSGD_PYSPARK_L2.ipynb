{
 "cells": [
  {
   "cell_type": "code",
   "execution_count": 27,
   "metadata": {
    "collapsed": false
   },
   "outputs": [],
   "source": [
    "from pyspark.mllib.regression import LabeledPoint, LinearRegressionWithSGD\n",
    "from pyspark import SparkContext, SQLContext\n",
    "import numpy as array,math"
   ]
  },
  {
   "cell_type": "code",
   "execution_count": 28,
   "metadata": {
    "collapsed": false
   },
   "outputs": [],
   "source": [
    "def parsePoint(line):\n",
    "    values = [float(x) for x in line.replace(',', ' ').split(' ')]\n",
    "    return LabeledPoint(values[0], values[1:])"
   ]
  },
  {
   "cell_type": "code",
   "execution_count": 29,
   "metadata": {
    "collapsed": false
   },
   "outputs": [],
   "source": [
    "sc = SparkContext(appName=\"LinearRegressionWithSGD Regression\")\n",
    "#data = sc.textFile(\"C:/SparkDev/spark-1.4.0-bin-hadoop2.6/data/mllib/ridge-data/lpsa.data\")\n"
   ]
  },
  {
   "cell_type": "code",
   "execution_count": 30,
   "metadata": {
    "collapsed": true
   },
   "outputs": [],
   "source": [
    "# Load dataset\n",
    "data = sc.textFile(\"C:\\Users\\Rachan\\Downloads\\winequality-white_SetR.csv\")\n",
    "parsedData = data.map(parsePoint)\n"
   ]
  },
  {
   "cell_type": "code",
   "execution_count": 31,
   "metadata": {
    "collapsed": true
   },
   "outputs": [],
   "source": [
    "# 60,40 split traing, tesing data\n",
    "trainingData, testData = parsedData.randomSplit([3, 2], 11L)"
   ]
  },
  {
   "cell_type": "code",
   "execution_count": 32,
   "metadata": {
    "collapsed": false
   },
   "outputs": [
    {
     "name": "stdout",
     "output_type": "stream",
     "text": [
      "Training Data Count : 2958\n",
      "Test Data Count : 1940\n"
     ]
    }
   ],
   "source": [
    "print (\"Training Data Count : \"+str(trainingData.count()))\n",
    "print (\"Test Data Count : \"+str(testData.count()))"
   ]
  },
  {
   "cell_type": "code",
   "execution_count": 52,
   "metadata": {
    "collapsed": false,
    "scrolled": false
   },
   "outputs": [],
   "source": [
    "# Build the model\n",
    "# regType - type of regurlarization\n",
    "trainingModel = LinearRegressionWithSGD.train(trainingData,iterations=100, step=0.001, intercept=True, regType=\"l2\")\n",
    "\n",
    "# Evaluate the model on training data\n",
    "trainingValuesAndPreds = trainingData.map(lambda p: (p.label, trainingModel.predict(p.features)))\n",
    "trainingMSEMap = trainingValuesAndPreds.map(lambda (v, p): (v - p)**2)\n",
    "#trainingMSEMap.collect()"
   ]
  },
  {
   "cell_type": "code",
   "execution_count": 53,
   "metadata": {
    "collapsed": false
   },
   "outputs": [
    {
     "name": "stdout",
     "output_type": "stream",
     "text": [
      "Training Root Mean Squared Error = 1.72299463328\n"
     ]
    }
   ],
   "source": [
    "TRMSE = math.sqrt(trainingMSEMap.reduce(lambda x, y: x + y) /  trainingValuesAndPreds.count())\n",
    "\n",
    "print(\"Training Root Mean Squared Error = \" + str(TRMSE))"
   ]
  },
  {
   "cell_type": "code",
   "execution_count": 48,
   "metadata": {
    "collapsed": true
   },
   "outputs": [],
   "source": [
    "# Test on training model\n",
    "testValuesAndPreds = testData.map(lambda p: (p.label, trainingModel.predict(p.features)))\n",
    "testMSEMap = testValuesAndPreds.map(lambda (v, p): (v - p)**2)\n",
    "#testMSEMap.collect()"
   ]
  },
  {
   "cell_type": "code",
   "execution_count": 49,
   "metadata": {
    "collapsed": false
   },
   "outputs": [
    {
     "name": "stdout",
     "output_type": "stream",
     "text": [
      "Test Root Mean Squared Error = 1.16755891839e+41\n"
     ]
    }
   ],
   "source": [
    "TSTRMSE = math.sqrt(testMSEMap.reduce(lambda x, y: x + y) /  testValuesAndPreds.count())\n",
    "\n",
    "print(\"Test Root Mean Squared Error = \" + str(TSTRMSE))\n"
   ]
  },
  {
   "cell_type": "code",
   "execution_count": 25,
   "metadata": {
    "collapsed": true
   },
   "outputs": [],
   "source": [
    "sc.stop()"
   ]
  },
  {
   "cell_type": "code",
   "execution_count": null,
   "metadata": {
    "collapsed": true
   },
   "outputs": [],
   "source": []
  }
 ],
 "metadata": {
  "kernelspec": {
   "display_name": "Python 2",
   "language": "python",
   "name": "python2"
  },
  "language_info": {
   "codemirror_mode": {
    "name": "ipython",
    "version": 2
   },
   "file_extension": ".py",
   "mimetype": "text/x-python",
   "name": "python",
   "nbconvert_exporter": "python",
   "pygments_lexer": "ipython2",
   "version": "2.7.9"
  }
 },
 "nbformat": 4,
 "nbformat_minor": 0
}
