{
 "cells": [
  {
   "cell_type": "code",
   "execution_count": 1,
   "metadata": {
    "collapsed": false
   },
   "outputs": [],
   "source": [
    "from pyspark.mllib.classification import LogisticRegressionWithLBFGS\n",
    "from pyspark.mllib.regression import LabeledPoint\n",
    "from pyspark import SparkContext, SQLContext\n",
    "from pyspark.mllib.evaluation import MulticlassMetrics,BinaryClassificationMetrics\n",
    "import numpy as np"
   ]
  },
  {
   "cell_type": "code",
   "execution_count": 2,
   "metadata": {
    "collapsed": false
   },
   "outputs": [],
   "source": [
    "# Load and parse the data\n",
    "def parsePoint(line):\n",
    "    values = [float(x) for x in line.replace(',', ' ').split(' ')]\n",
    "    return LabeledPoint(np.float64(values[0]), np.float64(values[1:]))"
   ]
  },
  {
   "cell_type": "code",
   "execution_count": 3,
   "metadata": {
    "collapsed": false
   },
   "outputs": [],
   "source": [
    "sc = SparkContext(appName=\"LogisticRegressionWithLBFGS Classification\")"
   ]
  },
  {
   "cell_type": "code",
   "execution_count": 4,
   "metadata": {
    "collapsed": true
   },
   "outputs": [],
   "source": [
    "data = sc.textFile(\"C:\\Users\\Rachan\\Downloads\\Assignment 1\\Assignment 1\\winequality-white_Set1.csv\")\n",
    "parsedData = data.map(parsePoint)\n"
   ]
  },
  {
   "cell_type": "code",
   "execution_count": 5,
   "metadata": {
    "collapsed": false,
    "scrolled": true
   },
   "outputs": [
    {
     "name": "stdout",
     "output_type": "stream",
     "text": [
      "(1.0,[7.0,0.27,0.36,20.7,0.045,45.0,170.0,1.001,3.0,0.45,8.8])\n"
     ]
    }
   ],
   "source": [
    "print parsedData.first()"
   ]
  },
  {
   "cell_type": "code",
   "execution_count": 6,
   "metadata": {
    "collapsed": true
   },
   "outputs": [],
   "source": [
    "# 60,40 split traing, tesing data\n",
    "trainingData, testData = parsedData.randomSplit([3, 2], 11L)"
   ]
  },
  {
   "cell_type": "code",
   "execution_count": 7,
   "metadata": {
    "collapsed": false
   },
   "outputs": [
    {
     "name": "stdout",
     "output_type": "stream",
     "text": [
      "Training Data Count : 2958\n",
      "Test Data Count : 1940\n"
     ]
    }
   ],
   "source": [
    "print (\"Training Data Count : \"+str(trainingData.count()))\n",
    "print (\"Test Data Count : \"+str(testData.count()))"
   ]
  },
  {
   "cell_type": "code",
   "execution_count": 9,
   "metadata": {
    "collapsed": false
   },
   "outputs": [],
   "source": [
    "# Build the Training model \n",
    "# Parameter variations\n",
    "trainingModel = LogisticRegressionWithLBFGS.train(trainingData, iterations=200, tolerance=0.001, regType='l2', intercept=True)"
   ]
  },
  {
   "cell_type": "code",
   "execution_count": 10,
   "metadata": {
    "collapsed": true
   },
   "outputs": [],
   "source": [
    "trainingPredsAndLabels = trainingData.map(lambda p: (float(trainingModel.predict(p.features)),float(p.label)))"
   ]
  },
  {
   "cell_type": "code",
   "execution_count": 12,
   "metadata": {
    "collapsed": false
   },
   "outputs": [
    {
     "name": "stdout",
     "output_type": "stream",
     "text": [
      "Training Error = 0.19506423259\n",
      "Training Precision = 0.80493576741\n",
      "Training Precision(1) = 0.676724137931\n",
      "Training Precision(0) = 0.815847395451\n",
      "Training Recall = 0.80493576741\n",
      "Training Recall(1) = 0.238239757208\n",
      "Training Recall(0) = 0.967377120487\n",
      "Training Area Under ROC = 0.602808438848\n"
     ]
    }
   ],
   "source": [
    "trainErr = trainingPredsAndLabels.filter(lambda (v, p): v != p).count() / float(trainingData.count())\n",
    "print(\"Training Error = \" + str(trainErr))\n",
    "metrics = MulticlassMetrics(trainingPredsAndLabels)\n",
    "binarymetrics = BinaryClassificationMetrics(trainingPredsAndLabels)\n",
    "print(\"Training Precision = \" + str(metrics.precision()))\n",
    "print(\"Training Precision(1) = \" + str(metrics.precision(1)))\n",
    "print(\"Training Precision(0) = \" + str(metrics.precision(0)))\n",
    "print(\"Training Recall = \" + str(metrics.recall()))\n",
    "print(\"Training Recall(1) = \" + str(metrics.recall(1)))\n",
    "print(\"Training Recall(0) = \" + str(metrics.recall(0)))\n",
    "print(\"Training Area Under ROC = \" + str(binarymetrics.areaUnderROC))\n"
   ]
  },
  {
   "cell_type": "code",
   "execution_count": 13,
   "metadata": {
    "collapsed": true
   },
   "outputs": [],
   "source": [
    "testPredsAndLabels = testData.map(lambda p: (float(trainingModel.predict(p.features)),float(p.label)))"
   ]
  },
  {
   "cell_type": "code",
   "execution_count": 14,
   "metadata": {
    "collapsed": false
   },
   "outputs": [
    {
     "name": "stdout",
     "output_type": "stream",
     "text": [
      "Testing Error = 0.192783505155\n",
      "Training Precision = 0.807216494845\n",
      "Training Precision(1) = 0.597222222222\n",
      "Training Precision(0) = 0.824053452116\n",
      "Training Recall = 0.807216494845\n",
      "Training Recall(1) = 0.213930348259\n",
      "Training Recall(0) = 0.962288686606\n",
      "Training Area Under ROC = 0.588109517432\n"
     ]
    }
   ],
   "source": [
    "# Testing data metrics\n",
    "testErr = testPredsAndLabels.filter(lambda (v, p): v != p).count() / float(testData.count())\n",
    "print(\"Testing Error = \" + str(testErr))\n",
    "metrics = MulticlassMetrics(testPredsAndLabels)\n",
    "binarymetrics = BinaryClassificationMetrics(testPredsAndLabels)\n",
    "print(\"Training Precision = \" + str(metrics.precision()))\n",
    "print(\"Training Precision(1) = \" + str(metrics.precision(1)))\n",
    "print(\"Training Precision(0) = \" + str(metrics.precision(0)))\n",
    "print(\"Training Recall = \" + str(metrics.recall()))\n",
    "print(\"Training Recall(1) = \" + str(metrics.recall(1)))\n",
    "print(\"Training Recall(0) = \" + str(metrics.recall(0)))\n",
    "print(\"Training Area Under ROC = \" + str(binarymetrics.areaUnderROC))"
   ]
  },
  {
   "cell_type": "code",
   "execution_count": 15,
   "metadata": {
    "collapsed": true
   },
   "outputs": [],
   "source": [
    "sc.stop()"
   ]
  },
  {
   "cell_type": "code",
   "execution_count": null,
   "metadata": {
    "collapsed": true
   },
   "outputs": [],
   "source": []
  }
 ],
 "metadata": {
  "kernelspec": {
   "display_name": "Python 2",
   "language": "python",
   "name": "python2"
  },
  "language_info": {
   "codemirror_mode": {
    "name": "ipython",
    "version": 2
   },
   "file_extension": ".py",
   "mimetype": "text/x-python",
   "name": "python",
   "nbconvert_exporter": "python",
   "pygments_lexer": "ipython2",
   "version": "2.7.9"
  }
 },
 "nbformat": 4,
 "nbformat_minor": 0
}
