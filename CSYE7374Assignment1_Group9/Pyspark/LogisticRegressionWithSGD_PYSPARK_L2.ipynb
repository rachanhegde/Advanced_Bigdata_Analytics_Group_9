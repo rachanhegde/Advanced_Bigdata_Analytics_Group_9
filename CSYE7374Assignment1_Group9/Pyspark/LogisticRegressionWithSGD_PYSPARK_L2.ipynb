{
 "cells": [
  {
   "cell_type": "code",
   "execution_count": 2,
   "metadata": {
    "collapsed": false
   },
   "outputs": [],
   "source": [
    "from pyspark.mllib.classification import LogisticRegressionWithSGD\n",
    "from pyspark.mllib.regression import LabeledPoint\n",
    "from pyspark import SparkContext, SQLContext\n",
    "from pyspark.mllib.evaluation import MulticlassMetrics,BinaryClassificationMetrics\n",
    "import numpy as np"
   ]
  },
  {
   "cell_type": "code",
   "execution_count": 3,
   "metadata": {
    "collapsed": false
   },
   "outputs": [],
   "source": [
    "# Load and parse the data\n",
    "def parsePoint(line):\n",
    "    values = [float(x) for x in line.replace(',', ' ').split(' ')]\n",
    "    return LabeledPoint(np.float64(values[0]), np.float64(values[1:]))"
   ]
  },
  {
   "cell_type": "code",
   "execution_count": 4,
   "metadata": {
    "collapsed": false
   },
   "outputs": [],
   "source": [
    "sc = SparkContext(appName=\"LogisticRegressionWithSGD Classification\")"
   ]
  },
  {
   "cell_type": "code",
   "execution_count": 5,
   "metadata": {
    "collapsed": true
   },
   "outputs": [],
   "source": [
    "data = sc.textFile(\"C:\\Users\\Rachan\\Downloads\\Assignment 1\\Assignment 1\\winequality-white_Set1.csv\")\n",
    "parsedData = data.map(parsePoint)\n"
   ]
  },
  {
   "cell_type": "code",
   "execution_count": 6,
   "metadata": {
    "collapsed": false,
    "scrolled": true
   },
   "outputs": [
    {
     "name": "stdout",
     "output_type": "stream",
     "text": [
      "(1.0,[7.0,0.27,0.36,20.7,0.045,45.0,170.0,1.001,3.0,0.45,8.8])\n"
     ]
    }
   ],
   "source": [
    "print parsedData.first()"
   ]
  },
  {
   "cell_type": "code",
   "execution_count": 7,
   "metadata": {
    "collapsed": true
   },
   "outputs": [],
   "source": [
    "# 60,40 split traing, tesing data\n",
    "trainingData, testData = parsedData.randomSplit([3, 2], 11L)"
   ]
  },
  {
   "cell_type": "code",
   "execution_count": 8,
   "metadata": {
    "collapsed": false
   },
   "outputs": [
    {
     "name": "stdout",
     "output_type": "stream",
     "text": [
      "Training Data Count : 2958\n",
      "Test Data Count : 1940\n"
     ]
    }
   ],
   "source": [
    "print (\"Training Data Count : \"+str(trainingData.count()))\n",
    "print (\"Test Data Count : \"+str(testData.count()))"
   ]
  },
  {
   "cell_type": "code",
   "execution_count": 9,
   "metadata": {
    "collapsed": false
   },
   "outputs": [],
   "source": [
    "# Build the Training model \n",
    "# Parameter variations\n",
    "trainingModel = LogisticRegressionWithSGD.train(trainingData, iterations=200, step=0.001, regType='l2', intercept=True)"
   ]
  },
  {
   "cell_type": "code",
   "execution_count": 10,
   "metadata": {
    "collapsed": true
   },
   "outputs": [],
   "source": [
    "trainingPredsAndLabels = trainingData.map(lambda p: (float(trainingModel.predict(p.features)),float(p.label)))"
   ]
  },
  {
   "cell_type": "code",
   "execution_count": 11,
   "metadata": {
    "collapsed": false
   },
   "outputs": [
    {
     "name": "stdout",
     "output_type": "stream",
     "text": [
      "Training Error = 0.235294117647\n",
      "Training Precision = 0.764705882353\n",
      "Training Precision(1) = 0.025641025641\n",
      "Training Precision(0) = 0.774580335731\n",
      "Training Recall = 0.764705882353\n",
      "Training Recall(1) = 0.00151745068285\n",
      "Training Recall(0) = 0.98347107438\n",
      "Training Area Under ROC = 0.492494262532\n"
     ]
    }
   ],
   "source": [
    "trainErr = trainingPredsAndLabels.filter(lambda (v, p): v != p).count() / float(trainingData.count())\n",
    "print(\"Training Error = \" + str(trainErr))\n",
    "metrics = MulticlassMetrics(trainingPredsAndLabels)\n",
    "binarymetrics = BinaryClassificationMetrics(trainingPredsAndLabels)\n",
    "print(\"Training Precision = \" + str(metrics.precision()))\n",
    "print(\"Training Precision(1) = \" + str(metrics.precision(1)))\n",
    "print(\"Training Precision(0) = \" + str(metrics.precision(0)))\n",
    "print(\"Training Recall = \" + str(metrics.recall()))\n",
    "print(\"Training Recall(1) = \" + str(metrics.recall(1)))\n",
    "print(\"Training Recall(0) = \" + str(metrics.recall(0)))\n",
    "print(\"Training Area Under ROC = \" + str(binarymetrics.areaUnderROC))"
   ]
  },
  {
   "cell_type": "code",
   "execution_count": 12,
   "metadata": {
    "collapsed": true
   },
   "outputs": [],
   "source": [
    "testPredsAndLabels = testData.map(lambda p: (float(trainingModel.predict(p.features)),float(p.label)))"
   ]
  },
  {
   "cell_type": "code",
   "execution_count": 13,
   "metadata": {
    "collapsed": false
   },
   "outputs": [
    {
     "name": "stdout",
     "output_type": "stream",
     "text": [
      "Testing Error = 0.220618556701\n",
      "Training Precision = 0.779381443299\n",
      "Training Precision(1) = 0.138888888889\n",
      "Training Precision(0) = 0.791491596639\n",
      "Training Recall = 0.779381443299\n",
      "Training Recall(1) = 0.0124378109453\n",
      "Training Recall(0) = 0.979843953186\n",
      "Training Area Under ROC = 0.496140882066\n"
     ]
    }
   ],
   "source": [
    "# Testing data metrics\n",
    "testErr = testPredsAndLabels.filter(lambda (v, p): v != p).count() / float(testData.count())\n",
    "print(\"Testing Error = \" + str(testErr))\n",
    "metrics = MulticlassMetrics(testPredsAndLabels)\n",
    "binarymetrics = BinaryClassificationMetrics(testPredsAndLabels)\n",
    "print(\"Training Precision = \" + str(metrics.precision()))\n",
    "print(\"Training Precision(1) = \" + str(metrics.precision(1)))\n",
    "print(\"Training Precision(0) = \" + str(metrics.precision(0)))\n",
    "print(\"Training Recall = \" + str(metrics.recall()))\n",
    "print(\"Training Recall(1) = \" + str(metrics.recall(1)))\n",
    "print(\"Training Recall(0) = \" + str(metrics.recall(0)))\n",
    "print(\"Training Area Under ROC = \" + str(binarymetrics.areaUnderROC))"
   ]
  },
  {
   "cell_type": "code",
   "execution_count": 14,
   "metadata": {
    "collapsed": true
   },
   "outputs": [],
   "source": [
    "sc.stop()"
   ]
  },
  {
   "cell_type": "code",
   "execution_count": null,
   "metadata": {
    "collapsed": true
   },
   "outputs": [],
   "source": []
  }
 ],
 "metadata": {
  "kernelspec": {
   "display_name": "Python 2",
   "language": "python",
   "name": "python2"
  },
  "language_info": {
   "codemirror_mode": {
    "name": "ipython",
    "version": 2
   },
   "file_extension": ".py",
   "mimetype": "text/x-python",
   "name": "python",
   "nbconvert_exporter": "python",
   "pygments_lexer": "ipython2",
   "version": "2.7.9"
  }
 },
 "nbformat": 4,
 "nbformat_minor": 0
}
