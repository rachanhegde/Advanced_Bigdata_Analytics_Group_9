{
 "cells": [
  {
   "cell_type": "code",
   "execution_count": 14,
   "metadata": {
    "collapsed": false
   },
   "outputs": [],
   "source": [
    "from pyspark.mllib.regression import LabeledPoint, RidgeRegressionWithSGD\n",
    "from pyspark import SparkContext, SQLContext\n",
    "import numpy as array,math"
   ]
  },
  {
   "cell_type": "code",
   "execution_count": 15,
   "metadata": {
    "collapsed": false
   },
   "outputs": [],
   "source": [
    "def parsePoint(line):\n",
    "    values = [float(x) for x in line.replace(',', ' ').split(' ')]\n",
    "    return LabeledPoint(values[0], values[1:])"
   ]
  },
  {
   "cell_type": "code",
   "execution_count": 16,
   "metadata": {
    "collapsed": false
   },
   "outputs": [],
   "source": [
    "sc = SparkContext(appName=\"RidgeRegressionWithSGD Regression\")\n",
    "#data = sc.textFile(\"C:/SparkDev/spark-1.4.0-bin-hadoop2.6/data/mllib/ridge-data/lpsa.data\")\n"
   ]
  },
  {
   "cell_type": "code",
   "execution_count": 17,
   "metadata": {
    "collapsed": true
   },
   "outputs": [],
   "source": [
    "# Load dataset\n",
    "data = sc.textFile(\"C:\\Users\\Rachan\\Downloads\\winequality-white_SetR.csv\")\n",
    "parsedData = data.map(parsePoint)\n"
   ]
  },
  {
   "cell_type": "code",
   "execution_count": 18,
   "metadata": {
    "collapsed": true
   },
   "outputs": [],
   "source": [
    "# 60,40 split traing, tesing data\n",
    "trainingData, testData = parsedData.randomSplit([3, 2], 11L)"
   ]
  },
  {
   "cell_type": "code",
   "execution_count": 19,
   "metadata": {
    "collapsed": false
   },
   "outputs": [
    {
     "name": "stdout",
     "output_type": "stream",
     "text": [
      "Training Data Count : 2958\n",
      "Test Data Count : 1940\n"
     ]
    }
   ],
   "source": [
    "print (\"Training Data Count : \"+str(trainingData.count()))\n",
    "print (\"Test Data Count : \"+str(testData.count()))"
   ]
  },
  {
   "cell_type": "code",
   "execution_count": 25,
   "metadata": {
    "collapsed": false,
    "scrolled": false
   },
   "outputs": [],
   "source": [
    "# Build the model\n",
    "# regType - type of regularization\n",
    "trainingModel = RidgeRegressionWithSGD.train(trainingData,iterations=100, step=0.001, intercept=True)\n",
    "\n",
    "# Evaluate the model on training data\n",
    "trainingValuesAndPreds = trainingData.map(lambda p: (p.label, trainingModel.predict(p.features)))\n",
    "trainingMSEMap = trainingValuesAndPreds.map(lambda (v, p): (v - p)**2)\n",
    "#trainingMSEMap.collect()"
   ]
  },
  {
   "cell_type": "code",
   "execution_count": 24,
   "metadata": {
    "collapsed": false
   },
   "outputs": [
    {
     "name": "stdout",
     "output_type": "stream",
     "text": [
      "Training Root Mean Squared Error = 1.72299963288\n"
     ]
    }
   ],
   "source": [
    "TRMSE = math.sqrt(trainingMSEMap.reduce(lambda x, y: x + y) /  trainingValuesAndPreds.count())\n",
    "\n",
    "print(\"Training Root Mean Squared Error = \" + str(TRMSE))\n"
   ]
  },
  {
   "cell_type": "code",
   "execution_count": 11,
   "metadata": {
    "collapsed": true
   },
   "outputs": [],
   "source": [
    "# Test on training model\n",
    "testValuesAndPreds = testData.map(lambda p: (p.label, trainingModel.predict(p.features)))\n",
    "testMSEMap = testValuesAndPreds.map(lambda (v, p): (v - p)**2)\n",
    "#testMSEMap.collect()"
   ]
  },
  {
   "cell_type": "code",
   "execution_count": 12,
   "metadata": {
    "collapsed": false
   },
   "outputs": [
    {
     "name": "stdout",
     "output_type": "stream",
     "text": [
      "Test Root Mean Squared Error = 2.02018700875\n"
     ]
    }
   ],
   "source": [
    "TSTRMSE = math.sqrt(testMSEMap.reduce(lambda x, y: x + y) /  testValuesAndPreds.count())\n",
    "\n",
    "print(\"Test Root Mean Squared Error = \" + str(TSTRMSE))\n"
   ]
  },
  {
   "cell_type": "code",
   "execution_count": 13,
   "metadata": {
    "collapsed": true
   },
   "outputs": [],
   "source": [
    "sc.stop()"
   ]
  },
  {
   "cell_type": "code",
   "execution_count": null,
   "metadata": {
    "collapsed": true
   },
   "outputs": [],
   "source": []
  }
 ],
 "metadata": {
  "kernelspec": {
   "display_name": "Python 2",
   "language": "python",
   "name": "python2"
  },
  "language_info": {
   "codemirror_mode": {
    "name": "ipython",
    "version": 2
   },
   "file_extension": ".py",
   "mimetype": "text/x-python",
   "name": "python",
   "nbconvert_exporter": "python",
   "pygments_lexer": "ipython2",
   "version": "2.7.9"
  }
 },
 "nbformat": 4,
 "nbformat_minor": 0
}
