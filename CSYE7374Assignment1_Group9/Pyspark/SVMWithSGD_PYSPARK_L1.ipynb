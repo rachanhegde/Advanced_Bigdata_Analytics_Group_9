{
 "cells": [
  {
   "cell_type": "code",
   "execution_count": 1,
   "metadata": {
    "collapsed": false
   },
   "outputs": [],
   "source": [
    "from pyspark.mllib.classification import SVMWithSGD, SVMModel, LogisticRegressionWithLBFGS\n",
    "from pyspark.mllib.regression import LabeledPoint\n",
    "from pyspark import SparkContext, SQLContext\n",
    "from pyspark.mllib.evaluation import MulticlassMetrics,BinaryClassificationMetrics\n",
    "import numpy as np"
   ]
  },
  {
   "cell_type": "code",
   "execution_count": 2,
   "metadata": {
    "collapsed": false
   },
   "outputs": [],
   "source": [
    "# Load and parse the data\n",
    "def parsePoint(line):\n",
    "    values = [float(x) for x in line.replace(',', ' ').split(' ')]\n",
    "    return LabeledPoint(np.float64(values[0]), np.float64(values[1:]))"
   ]
  },
  {
   "cell_type": "code",
   "execution_count": 3,
   "metadata": {
    "collapsed": false
   },
   "outputs": [],
   "source": [
    "sc = SparkContext(appName=\"SVMWithSGD Classification\")\n",
    "#data = sc.textFile(\"C:\\SparkDev\\spark-1.4.0-bin-hadoop2.6\\data\\mllib\\sample_svm_data.txt\")\n"
   ]
  },
  {
   "cell_type": "code",
   "execution_count": 4,
   "metadata": {
    "collapsed": true
   },
   "outputs": [],
   "source": [
    "data = sc.textFile(\"C:\\Users\\Rachan\\Downloads\\Assignment 1\\Assignment 1\\winequality-white_Set1.csv\")\n",
    "parsedData = data.map(parsePoint)\n"
   ]
  },
  {
   "cell_type": "code",
   "execution_count": 6,
   "metadata": {
    "collapsed": false,
    "scrolled": true
   },
   "outputs": [
    {
     "name": "stdout",
     "output_type": "stream",
     "text": [
      "(1.0,[7.0,0.27,0.36,20.7,0.045,45.0,170.0,1.001,3.0,0.45,8.8])\n"
     ]
    }
   ],
   "source": [
    "print parsedData.first()"
   ]
  },
  {
   "cell_type": "code",
   "execution_count": 7,
   "metadata": {
    "collapsed": true
   },
   "outputs": [],
   "source": [
    "# 60,40 split traing, tesing data\n",
    "trainingData, testData = parsedData.randomSplit([3, 2], 11L)"
   ]
  },
  {
   "cell_type": "code",
   "execution_count": 8,
   "metadata": {
    "collapsed": false
   },
   "outputs": [
    {
     "name": "stdout",
     "output_type": "stream",
     "text": [
      "Training Data Count : 2958\n",
      "Test Data Count : 1940\n"
     ]
    }
   ],
   "source": [
    "print (\"Training Data Count : \"+str(trainingData.count()))\n",
    "print (\"Test Data Count : \"+str(testData.count()))"
   ]
  },
  {
   "cell_type": "code",
   "execution_count": 9,
   "metadata": {
    "collapsed": false
   },
   "outputs": [],
   "source": [
    "# Build the Training model \n",
    "# Parameter variations\n",
    "trainingModel = SVMWithSGD.train(trainingData, iterations=200, step=0.00001, regType='l1', intercept=True)"
   ]
  },
  {
   "cell_type": "code",
   "execution_count": 10,
   "metadata": {
    "collapsed": true
   },
   "outputs": [],
   "source": [
    "trainingPredsAndLabels = trainingData.map(lambda p: (float(trainingModel.predict(p.features)),float(p.label)))"
   ]
  },
  {
   "cell_type": "code",
   "execution_count": 11,
   "metadata": {
    "collapsed": false
   },
   "outputs": [
    {
     "name": "stdout",
     "output_type": "stream",
     "text": [
      "Training Error = 0.24645030426\n",
      "Training Precision = 0.75354969574\n",
      "Training Precision(1) = 0.0731707317073\n",
      "Training Precision(0) = 0.772948539638\n",
      "Training Recall = 0.75354969574\n",
      "Training Recall(1) = 0.00910470409712\n",
      "Training Recall(0) = 0.96694214876\n",
      "Training Area Under ROC = 0.488023426429\n"
     ]
    }
   ],
   "source": [
    "trainErr = trainingPredsAndLabels.filter(lambda (v, p): v != p).count() / float(trainingData.count())\n",
    "print(\"Training Error = \" + str(trainErr))\n",
    "metrics = MulticlassMetrics(trainingPredsAndLabels)\n",
    "binarymetrics = BinaryClassificationMetrics(trainingPredsAndLabels)\n",
    "print(\"Training Precision = \" + str(metrics.precision()))\n",
    "print(\"Training Precision(1) = \" + str(metrics.precision(1)))\n",
    "print(\"Training Precision(0) = \" + str(metrics.precision(0)))\n",
    "print(\"Training Recall = \" + str(metrics.recall()))\n",
    "print(\"Training Recall(1) = \" + str(metrics.recall(1)))\n",
    "print(\"Training Recall(0) = \" + str(metrics.recall(0)))\n",
    "print(\"Training Area Under ROC = \" + str(binarymetrics.areaUnderROC))\n"
   ]
  },
  {
   "cell_type": "code",
   "execution_count": 12,
   "metadata": {
    "collapsed": true
   },
   "outputs": [],
   "source": [
    "testPredsAndLabels = testData.map(lambda p: (float(trainingModel.predict(p.features)),float(p.label)))"
   ]
  },
  {
   "cell_type": "code",
   "execution_count": 13,
   "metadata": {
    "collapsed": false
   },
   "outputs": [
    {
     "name": "stdout",
     "output_type": "stream",
     "text": [
      "Testing Error = 0.233505154639\n",
      "Training Precision = 0.766494845361\n",
      "Training Precision(1) = 0.119402985075\n",
      "Training Precision(0) = 0.789642285104\n",
      "Training Recall = 0.766494845361\n",
      "Training Recall(1) = 0.0199004975124\n",
      "Training Recall(0) = 0.961638491547\n",
      "Training Area Under ROC = 0.49076949453\n"
     ]
    }
   ],
   "source": [
    "# Testing data metrics\n",
    "testErr = testPredsAndLabels.filter(lambda (v, p): v != p).count() / float(testData.count())\n",
    "print(\"Testing Error = \" + str(testErr))\n",
    "metrics = MulticlassMetrics(testPredsAndLabels)\n",
    "binarymetrics = BinaryClassificationMetrics(testPredsAndLabels)\n",
    "print(\"Training Precision = \" + str(metrics.precision()))\n",
    "print(\"Training Precision(1) = \" + str(metrics.precision(1)))\n",
    "print(\"Training Precision(0) = \" + str(metrics.precision(0)))\n",
    "print(\"Training Recall = \" + str(metrics.recall()))\n",
    "print(\"Training Recall(1) = \" + str(metrics.recall(1)))\n",
    "print(\"Training Recall(0) = \" + str(metrics.recall(0)))\n",
    "print(\"Training Area Under ROC = \" + str(binarymetrics.areaUnderROC))"
   ]
  },
  {
   "cell_type": "code",
   "execution_count": 14,
   "metadata": {
    "collapsed": true
   },
   "outputs": [],
   "source": [
    "sc.stop()"
   ]
  },
  {
   "cell_type": "code",
   "execution_count": null,
   "metadata": {
    "collapsed": true
   },
   "outputs": [],
   "source": []
  }
 ],
 "metadata": {
  "kernelspec": {
   "display_name": "Python 2",
   "language": "python",
   "name": "python2"
  },
  "language_info": {
   "codemirror_mode": {
    "name": "ipython",
    "version": 2
   },
   "file_extension": ".py",
   "mimetype": "text/x-python",
   "name": "python",
   "nbconvert_exporter": "python",
   "pygments_lexer": "ipython2",
   "version": "2.7.9"
  }
 },
 "nbformat": 4,
 "nbformat_minor": 0
}
